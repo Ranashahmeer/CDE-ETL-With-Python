{
 "cells": [
  {
   "cell_type": "code",
   "execution_count": 1,
   "id": "4f897d4b-e3ca-44ba-8ad8-7a66a9a0631e",
   "metadata": {},
   "outputs": [],
   "source": [
    "from io import StringIO\n",
    "import requests\n",
    "from bs4 import BeautifulSoup\n",
    "import pandas as pd\n",
    "import sqlite3\n",
    "from datetime import datetime"
   ]
  },
  {
   "cell_type": "code",
   "execution_count": 3,
   "id": "0b8f5658-e2dc-46b3-88ee-a5424c2cac8f",
   "metadata": {},
   "outputs": [],
   "source": [
    "def add_log(message):\n",
    "    with open('code_log.txt','a') as f:\n",
    "        f.write(f\"{datetime.now()}: {message}\\n\")"
   ]
  },
  {
   "cell_type": "code",
   "execution_count": 39,
   "id": "fe7e54b0-0b4d-447c-8460-2261cd71312f",
   "metadata": {},
   "outputs": [],
   "source": [
    "def extract(url,table_atrb):\n",
    "    soup=BeautifulSoup(requests.get(url).text,'html.parser')\n",
    "    table=soup.find('span',string=table_atrb).find_next('table')\n",
    "    df=pd.read_html(StringIO(str(table)))[0]\n",
    "    add_log(\"Data extraction completed! Now starting Transformation process\")\n",
    "    return df\n",
    "    "
   ]
  },
  {
   "cell_type": "code",
   "execution_count": 131,
   "id": "63ebaf83-b4cc-418b-bf37-38a3c7afddbe",
   "metadata": {},
   "outputs": [],
   "source": [
    "def transform(df,csv_path):\n",
    "    exchange_rate=pd.read_csv(csv_path,index_col=0).to_dict()['Rate']\n",
    "    df['MC_GBP_Billion']=round(df['Market cap (US$ billion)']*exchange_rate['GBP'],2)\n",
    "    df['MC_EUR_Billion']=round(df['Market cap (US$ billion)']*exchange_rate['EUR'],2)\n",
    "    df['MC_INR_Billion']=round(df['Market cap (US$ billion)']*exchange_rate['INR'],2)\n",
    "    # print(df)\n",
    "    add_log(\"Data Transformation completed now moving to Loading process\")\n",
    "    return df"
   ]
  },
  {
   "cell_type": "code",
   "execution_count": 135,
   "id": "07cac11d-6045-44a8-ae44-1802e289b5aa",
   "metadata": {},
   "outputs": [],
   "source": [
    "def load_to_csv(df,output_path):\n",
    "    df.to_csv(output_path)\n",
    "    add_log(\"Data Saved to cdv path :) \")\n",
    "\n"
   ]
  },
  {
   "cell_type": "code",
   "execution_count": 137,
   "id": "82894636-b129-468b-a77c-d59234c54986",
   "metadata": {},
   "outputs": [],
   "source": [
    "def load_to_db(df,sql_connection,table_name):\n",
    "    df.to_sql(table_name,sql_connection,if_exists='replace',index =False)\n",
    "    add_log(\"Data loaded to database as a table\")\n"
   ]
  },
  {
   "cell_type": "code",
   "execution_count": 173,
   "id": "e2ca6ce6-e82e-4ea8-8f16-e892c3184bf6",
   "metadata": {},
   "outputs": [],
   "source": [
    "def run_query(query_statement,sql_connection):\n",
    "    cursor=sql_connection.cursor()\n",
    "    cursor.execute(query_statement)\n",
    "    result=cursor.fetchall()\n",
    "    add_log(\"Process completed\")\n",
    "    return result\n",
    "    "
   ]
  },
  {
   "cell_type": "code",
   "execution_count": 175,
   "id": "b5998ea7-f0d2-4628-a44c-c79e24205157",
   "metadata": {},
   "outputs": [
    {
     "name": "stdout",
     "output_type": "stream",
     "text": [
      "[(1, 'JPMorgan Chase', 432.92, 346.34, 419.93, 36798.2), (2, 'Bank of America', 231.52, 185.22, 224.57, 19679.2), (3, 'Industrial and Commercial Bank of China', 194.56, 155.65, 188.72, 16537.6), (4, 'Agricultural Bank of China', 160.68, 128.54, 155.86, 13657.8), (5, 'HDFC Bank', 157.91, 126.33, 153.17, 13422.35), (6, 'Wells Fargo', 155.87, 124.7, 151.19, 13248.95), (7, 'HSBC Holdings PLC', 148.9, 119.12, 144.43, 12656.5), (8, 'Morgan Stanley', 140.83, 112.66, 136.61, 11970.55), (9, 'China Construction Bank', 139.82, 111.86, 135.63, 11884.7), (10, 'Bank of China', 136.81, 109.45, 132.71, 11628.85)]\n",
      "[(151.987,)]\n",
      "[('JPMorgan Chase',), ('Bank of America',), ('Industrial and Commercial Bank of China',), ('Agricultural Bank of China',), ('HDFC Bank',)]\n"
     ]
    }
   ],
   "source": [
    "if __name__ == \"__main__\":\n",
    "    url = 'https://web.archive.org/web/20230908091635/https://en.wikipedia.org/wiki/List_of_largest_banks'\n",
    "    output_csv_path = './Largest_banks_data.csv'\n",
    "    database_name = './Banks.db'\n",
    "    table_name = 'largest_banks'\n",
    "\n",
    "    add_log('Preliminaries complete. Initiating ETL process')\n",
    "\n",
    "    try:\n",
    "        df = extract(url, 'By market capitalization')\n",
    "        df = transform(df, \"./exchange_rate.csv\")\n",
    "        load_to_csv(df, output_csv_path)\n",
    "\n",
    "        # Load to Database and run queries\n",
    "        with sqlite3.connect(database_name) as conn:\n",
    "            load_to_db(df, conn, table_name)\n",
    "            print(run_query('SELECT * FROM largest_banks ', conn))\n",
    "            print(run_query('SELECT AVG(MC_GBP_Billion) FROM largest_banks', conn))\n",
    "            print(run_query('SELECT \"Bank name\" FROM largest_banks LIMIT 5', conn))\n",
    "\n",
    "    except Exception as e:\n",
    "        add_log(f\"Error encountered: {e}\")\n",
    "        raise\n"
   ]
  },
  {
   "cell_type": "code",
   "execution_count": null,
   "id": "01b60306-d5d7-4f48-8c66-8a9ada86dc61",
   "metadata": {},
   "outputs": [],
   "source": []
  }
 ],
 "metadata": {
  "kernelspec": {
   "display_name": "Python [conda env:base] *",
   "language": "python",
   "name": "conda-base-py"
  },
  "language_info": {
   "codemirror_mode": {
    "name": "ipython",
    "version": 3
   },
   "file_extension": ".py",
   "mimetype": "text/x-python",
   "name": "python",
   "nbconvert_exporter": "python",
   "pygments_lexer": "ipython3",
   "version": "3.12.7"
  }
 },
 "nbformat": 4,
 "nbformat_minor": 5
}
